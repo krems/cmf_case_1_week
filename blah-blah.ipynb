{
 "cells": [
  {
   "cell_type": "code",
   "execution_count": null,
   "outputs": [],
   "source": [
    "import numpy as np\n",
    "import pandas as pd\n",
    "from datetime import datetime\n",
    "\n",
    "import warnings\n",
    "\n",
    "import seaborn as sns\n",
    "import matplotlib.pyplot as plt\n",
    "\n",
    "import yfinance as yf\n",
    "import numpy as np\n",
    "import pandas as pd\n",
    "from datetime import datetime\n",
    "\n",
    "import warnings\n",
    "from arch.compat.numba import jit\n",
    "warnings.filterwarnings('ignore')\n",
    "\n",
    "import seaborn as sns\n",
    "import matplotlib.pyplot as plt\n",
    "plt.style.use(\"bmh\")\n",
    "plt.rcParams['font.family'] = 'DejaVu Sans'\n",
    "\n",
    "import scipy.stats as ss\n",
    "from arch import arch_model\n",
    "plt.rcParams['font.family'] = 'DejaVu Sans'\n",
    "plt.style.use(\"bmh\")\n",
    "\n",
    "from statsmodels.tsa.stattools import adfuller\n",
    "from statsmodels.graphics.tsaplots import plot_acf"
   ],
   "metadata": {
    "collapsed": false,
    "pycharm": {
     "name": "#%%\n"
    }
   }
  },
  {
   "cell_type": "code",
   "execution_count": null,
   "outputs": [],
   "source": [
    "def raw_adj_close_prices(ticker: str, date_from: str, date_to: str):\n",
    "    prices = yf.download(ticker, date_from, date_to)\n",
    "    prices.index = prices.index.to_period(freq='d')\n",
    "    return prices['Adj Close']"
   ],
   "metadata": {
    "collapsed": false,
    "pycharm": {
     "name": "#%%\n"
    }
   }
  },
  {
   "cell_type": "code",
   "execution_count": null,
   "outputs": [],
   "source": [
    "def raw_adj_close_log_returns(prices: pd.Series):\n",
    "    return np.log(prices).diff().dropna()"
   ],
   "metadata": {
    "collapsed": false,
    "pycharm": {
     "name": "#%%\n"
    }
   }
  },
  {
   "cell_type": "code",
   "execution_count": null,
   "outputs": [],
   "source": [
    "def beta(market: pd.Series, single_stock: pd.Series, lag: int = 252):\n",
    "    if True:\n",
    "        return 0 # fixme\n",
    "    return market.cov(single_stock, lag) / market.std(ddof=lag)"
   ],
   "metadata": {
    "collapsed": false,
    "pycharm": {
     "name": "#%%\n"
    }
   }
  },
  {
   "cell_type": "code",
   "execution_count": null,
   "outputs": [],
   "source": [
    "@jit\n",
    "def arch_filtered_series(returns: pd.Series,\n",
    "                         dist: str = 'Normal',\n",
    "                         mean: str = 'HARX',\n",
    "                         vol: str = 'Garch',\n",
    "                         lag: int = 200,\n",
    "                         p: int = 1,\n",
    "                         o: int = 0,\n",
    "                         q: int = 1,\n",
    "                         forecast_horizon: int = 30):\n",
    "    scaling_const = 10.0 / returns.std()\n",
    "\n",
    "    model = arch_model(scaling_const * returns,\n",
    "                       mean=mean, lags=lag, # mean = Constant, ARX, HARX + the number of lags\n",
    "                       vol=vol, p=p, o=o, q=q, # vol = Garch, EGARCH, HARCH + the number of lags\n",
    "                       dist=dist) # dist = Normal, t, skewstudent, ged\n",
    "\n",
    "    res = model.fit(update_freq=0, disp='off')\n",
    "    stand_residuals = res.resid / res.conditional_volatility\n",
    "    forecast = res.forecast(horizon=forecast_horizon)\n",
    "    means = pd.Series(forecast.mean.tail(1).to_numpy()[0])\n",
    "    vars = pd.Series(forecast.variance.tail(1).to_numpy()[0])\n",
    "    return stand_residuals, means, vars"
   ],
   "metadata": {
    "collapsed": false,
    "pycharm": {
     "name": "#%%\n"
    }
   }
  },
  {
   "cell_type": "code",
   "execution_count": null,
   "outputs": [],
   "source": [
    "DATE_FROM = '2015-01-01'\n",
    "DATE_TO = '2017-12-31'\n",
    "tickers = ['TSLA', 'AAPL', 'IBM', 'AMZN', 'MMM',\n",
    "           'ABMD', 'ACN', 'APD', 'GOOGL', 'BLK']"
   ],
   "metadata": {
    "collapsed": false,
    "pycharm": {
     "name": "#%%\n"
    }
   }
  },
  {
   "cell_type": "code",
   "execution_count": null,
   "outputs": [],
   "source": [
    "BETA_LAG = 252\n",
    "GARCH_LAG = 200\n",
    "CORRELATION_MATRIX_LAG = 200\n",
    "GARCH_REFIT_DELAY_DAYS = 30"
   ],
   "metadata": {
    "collapsed": false,
    "pycharm": {
     "name": "#%%\n"
    }
   }
  },
  {
   "cell_type": "code",
   "execution_count": null,
   "outputs": [],
   "source": [
    "spy_p = raw_adj_close_prices('SPY', DATE_FROM, DATE_TO)\n",
    "\n",
    "raw_prices = []\n",
    "for i in range(0, len(tickers)):\n",
    "    raw_prices.append(raw_adj_close_prices(tickers[i], DATE_FROM, DATE_TO))\n"
   ],
   "metadata": {
    "collapsed": false,
    "pycharm": {
     "name": "#%%\n"
    }
   }
  },
  {
   "cell_type": "code",
   "execution_count": null,
   "outputs": [],
   "source": [
    "plt.figure(figsize=(16,7))\n",
    "(spy_p / spy_p.mean()).plot()\n",
    "for data in raw_prices:\n",
    "    (data / data.mean()).plot()\n",
    "plt.title(\"normalized prices\")\n",
    "plt.legend(tickers)\n",
    "plt.show()"
   ],
   "metadata": {
    "collapsed": false,
    "pycharm": {
     "name": "#%%\n"
    }
   }
  },
  {
   "cell_type": "code",
   "execution_count": null,
   "outputs": [],
   "source": [],
   "metadata": {
    "collapsed": false,
    "pycharm": {
     "name": "#%%\n"
    }
   }
  },
  {
   "cell_type": "code",
   "execution_count": null,
   "outputs": [],
   "source": [
    "spy = raw_adj_close_log_returns(spy_p)\n",
    "plt.figure(figsize=(16,7))\n",
    "spy.plot()\n",
    "plt.title(\"spy log returns\")\n",
    "plt.show()"
   ],
   "metadata": {
    "collapsed": false,
    "pycharm": {
     "name": "#%%\n"
    }
   }
  },
  {
   "cell_type": "code",
   "execution_count": null,
   "outputs": [],
   "source": [
    "spyf, spy_means, spy_vars = arch_filtered_series(spy)\n",
    "plt.figure(figsize=(16,7))\n",
    "spyf.plot()\n",
    "plt.title(\"spy filtered log returns\")\n",
    "plt.show()"
   ],
   "metadata": {
    "collapsed": false,
    "pycharm": {
     "name": "#%%\n"
    }
   }
  },
  {
   "cell_type": "code",
   "execution_count": null,
   "outputs": [],
   "source": [
    "spy_means.plot()\n",
    "plt.show()"
   ],
   "metadata": {
    "collapsed": false,
    "pycharm": {
     "name": "#%%\n"
    }
   }
  },
  {
   "cell_type": "code",
   "execution_count": null,
   "outputs": [],
   "source": [
    "plt.figure(figsize=(16,7))\n",
    "plot_acf(spy)\n",
    "plt.show()\n"
   ],
   "metadata": {
    "collapsed": false,
    "pycharm": {
     "name": "#%%\n"
    }
   }
  },
  {
   "cell_type": "code",
   "execution_count": null,
   "outputs": [],
   "source": [
    "plt.figure(figsize=(16,7))\n",
    "plot_acf(spyf)\n",
    "plt.show()"
   ],
   "metadata": {
    "collapsed": false,
    "pycharm": {
     "name": "#%%\n"
    }
   }
  },
  {
   "cell_type": "code",
   "execution_count": null,
   "outputs": [],
   "source": [
    "res = spy_p.values\n",
    "result = adfuller(res)\n",
    "print('ADF Statistic: %f' % result[0])\n",
    "print('p-value: %f' % result[1])\n",
    "print('Critical Values:')\n",
    "for key, value in result[4].items():\n",
    "    print('\\t%s: %.3f' % (key, value))\n",
    "    \n",
    "res = spy.values\n",
    "result = adfuller(res)\n",
    "print('ADF Statistic: %f' % result[0])\n",
    "print('p-value: %f' % result[1])\n",
    "print('Critical Values:')\n",
    "for key, value in result[4].items():\n",
    "    print('\\t%s: %.3f' % (key, value))\n",
    "    \n",
    "res = spyf.dropna().values\n",
    "result = adfuller(res)\n",
    "print('ADF Statistic: %f' % result[0])\n",
    "print('p-value: %f' % result[1])\n",
    "print('Critical Values:')\n",
    "for key, value in result[4].items():\n",
    "    print('\\t%s: %.3f' % (key, value))"
   ],
   "metadata": {
    "collapsed": false,
    "pycharm": {
     "name": "#%%\n"
    }
   }
  },
  {
   "cell_type": "code",
   "execution_count": null,
   "outputs": [],
   "source": [
    "# betas = {}\n",
    "# for ticker, data in raw_prices.items():\n",
    "#     betas[ticker] = beta(spy_p, data)\n",
    "#\n",
    "# betas"
   ],
   "metadata": {
    "collapsed": false,
    "pycharm": {
     "name": "#%%\n"
    }
   }
  },
  {
   "cell_type": "code",
   "execution_count": null,
   "outputs": [],
   "source": [
    "# net_market = raw_adj_close_log_returns(raw_prices['TSLA']) - spy * betas['TSLA']\n",
    "# plt.figure(figsize=(16,7))\n",
    "# net_market.plot()\n",
    "# plt.show()"
   ],
   "metadata": {
    "collapsed": false,
    "pycharm": {
     "name": "#%%\n"
    }
   }
  },
  {
   "cell_type": "code",
   "execution_count": null,
   "outputs": [],
   "source": [
    "# teslaf, _ = arch_filtered_series(net_market)\n",
    "# plt.figure(figsize=(16,7))\n",
    "# teslaf.plot()\n",
    "# plt.title(\"tsla filtered log returns\")\n",
    "# plt.show()"
   ],
   "metadata": {
    "collapsed": false,
    "pycharm": {
     "name": "#%%\n"
    }
   }
  },
  {
   "cell_type": "code",
   "execution_count": null,
   "outputs": [],
   "source": [
    "# res = net_market.values\n",
    "# result = adfuller(res)\n",
    "# print('ADF Statistic: %f' % result[0])\n",
    "# print('p-value: %f' % result[1])\n",
    "# print('Critical Values:')\n",
    "# for key, value in result[4].items():\n",
    "#     print('\\t%s: %.3f' % (key, value))\n",
    "#\n",
    "# res = teslaf.dropna().values\n",
    "# result = adfuller(res)\n",
    "# print('ADF Statistic: %f' % result[0])\n",
    "# print('p-value: %f' % result[1])\n",
    "# print('Critical Values:')\n",
    "# for key, value in result[4].items():\n",
    "#     print('\\t%s: %.3f' % (key, value))\n",
    "#"
   ],
   "metadata": {
    "collapsed": false,
    "pycharm": {
     "name": "#%%\n"
    }
   }
  },
  {
   "cell_type": "code",
   "execution_count": null,
   "outputs": [],
   "source": [
    "series, means, vars = arch_filtered_series(spy)"
   ],
   "metadata": {
    "collapsed": false,
    "pycharm": {
     "name": "#%%\n"
    }
   }
  },
  {
   "cell_type": "code",
   "execution_count": null,
   "outputs": [],
   "source": [],
   "metadata": {
    "collapsed": false,
    "pycharm": {
     "name": "#%%\n"
    }
   }
  },
  {
   "cell_type": "code",
   "execution_count": null,
   "outputs": [],
   "source": [
    "mkt_returns = []\n",
    "for i in range(0, len(raw_prices)):\n",
    "    ticker = tickers[i]\n",
    "    data = raw_prices[i]\n",
    "    mkt_returns.append(raw_adj_close_log_returns(data))\n",
    "\n",
    "betas = []\n",
    "for i in range(0, len(mkt_returns)):\n",
    "    ticker = tickers[i]\n",
    "    data = mkt_returns[i]\n",
    "    betas.append(beta(spy, data))\n",
    "\n",
    "net_market_returns = []\n",
    "for i in range(0, len(mkt_returns)):\n",
    "    ticker = tickers[i]\n",
    "    data = mkt_returns[i]\n",
    "    net_market_returns.append(data - spy * betas[i])"
   ],
   "metadata": {
    "collapsed": false,
    "pycharm": {
     "name": "#%%\n"
    }
   }
  },
  {
   "cell_type": "code",
   "execution_count": null,
   "outputs": [],
   "source": [
    "net_market_returns_f = []\n",
    "means = []\n",
    "vars = []\n",
    "for i in range(0, len(net_market_returns)):\n",
    "    ticker = tickers[i]\n",
    "    net_rets = net_market_returns[i]\n",
    "    fltr_res, fcst_means, fcst_vars = arch_filtered_series(net_rets)\n",
    "    net_market_returns_f.append(fltr_res)\n",
    "    means.append(fcst_means.dropna())\n",
    "    vars.append(fcst_vars.dropna())\n",
    "\n",
    "net_market_returns_f\n"
   ],
   "metadata": {
    "collapsed": false,
    "pycharm": {
     "name": "#%%\n"
    }
   }
  },
  {
   "cell_type": "code",
   "execution_count": null,
   "outputs": [],
   "source": [
    "returns = {}\n",
    "for i in range(0, len(tickers)):\n",
    "    returns[tickers[i]] = net_market_returns_f[i].dropna()\n",
    "\n",
    "data = pd.DataFrame(returns, columns=tickers)"
   ],
   "metadata": {
    "collapsed": false,
    "pycharm": {
     "name": "#%%\n"
    }
   }
  },
  {
   "cell_type": "code",
   "execution_count": null,
   "outputs": [],
   "source": [
    "data"
   ],
   "metadata": {
    "collapsed": false,
    "pycharm": {
     "name": "#%%\n"
    }
   }
  },
  {
   "cell_type": "code",
   "execution_count": null,
   "outputs": [],
   "source": [
    "corr_matrix = data.corr(min_periods=200)\n",
    "corr_matrix"
   ],
   "metadata": {
    "collapsed": false,
    "pycharm": {
     "name": "#%%\n"
    }
   }
  },
  {
   "cell_type": "code",
   "execution_count": null,
   "outputs": [],
   "source": [
    "sns.heatmap(corr_matrix, annot=True)\n",
    "plt.show()"
   ],
   "metadata": {
    "collapsed": false,
    "pycharm": {
     "name": "#%%\n"
    }
   }
  },
  {
   "cell_type": "code",
   "execution_count": null,
   "outputs": [],
   "source": [
    "corr_matrix.iloc[0]\n"
   ],
   "metadata": {
    "collapsed": false,
    "pycharm": {
     "name": "#%%\n"
    }
   }
  },
  {
   "cell_type": "code",
   "execution_count": null,
   "outputs": [],
   "source": [
    "def remove_row_and_column(matrix, index: int):\n",
    "    tmp = np.delete(matrix, (index), axis=0)\n",
    "    return np.delete(tmp, (index), axis=1)"
   ],
   "metadata": {
    "collapsed": false,
    "pycharm": {
     "name": "#%%\n"
    }
   }
  },
  {
   "cell_type": "code",
   "execution_count": null,
   "outputs": [],
   "source": [
    "mus = [] ### fixme: move to indicies\n",
    "for i in range(0, len(tickers)):\n",
    "    r_j_j = remove_row_and_column(corr_matrix, i)\n",
    "    inv_r_j_j = np.linalg.inv(r_j_j)\n",
    "    mu_j = np.delete(means, i)\n",
    "    sigma_j = np.delete(vars, i)\n",
    "    v = (real_returns - mu_j) / sigma_j\n",
    "    mus.append(means[i][0] + vars[i][0] * corr_matrix[i].dot(inv_r_j_j).dot(v))"
   ],
   "metadata": {
    "collapsed": false,
    "pycharm": {
     "name": "#%%\n"
    }
   }
  },
  {
   "cell_type": "code",
   "execution_count": null,
   "outputs": [],
   "source": [
    "def alpha(mu, real_return):\n",
    "    return 2 * mu - real_return"
   ],
   "metadata": {
    "collapsed": false,
    "pycharm": {
     "name": "#%%\n"
    }
   }
  },
  {
   "cell_type": "code",
   "execution_count": null,
   "outputs": [],
   "source": [],
   "metadata": {
    "collapsed": false,
    "pycharm": {
     "name": "#%%\n"
    }
   }
  },
  {
   "cell_type": "code",
   "execution_count": null,
   "outputs": [],
   "source": [],
   "metadata": {
    "collapsed": false,
    "pycharm": {
     "name": "#%%\n"
    }
   }
  },
  {
   "cell_type": "code",
   "execution_count": null,
   "outputs": [],
   "source": [],
   "metadata": {
    "collapsed": false,
    "pycharm": {
     "name": "#%%\n"
    }
   }
  },
  {
   "cell_type": "code",
   "execution_count": null,
   "outputs": [],
   "source": [],
   "metadata": {
    "collapsed": false,
    "pycharm": {
     "name": "#%%\n"
    }
   }
  },
  {
   "cell_type": "code",
   "execution_count": null,
   "outputs": [],
   "source": [],
   "metadata": {
    "collapsed": false,
    "pycharm": {
     "name": "#%%\n"
    }
   }
  },
  {
   "cell_type": "code",
   "execution_count": null,
   "outputs": [],
   "source": [],
   "metadata": {
    "collapsed": false,
    "pycharm": {
     "name": "#%%\n"
    }
   }
  }
 ],
 "metadata": {
  "kernelspec": {
   "display_name": "Python 3",
   "language": "python",
   "name": "python3"
  },
  "language_info": {
   "codemirror_mode": {
    "name": "ipython",
    "version": 2
   },
   "file_extension": ".py",
   "mimetype": "text/x-python",
   "name": "python",
   "nbconvert_exporter": "python",
   "pygments_lexer": "ipython2",
   "version": "2.7.6"
  }
 },
 "nbformat": 4,
 "nbformat_minor": 0
}