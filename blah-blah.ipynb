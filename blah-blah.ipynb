{
 "cells": [
  {
   "cell_type": "code",
   "execution_count": null,
   "outputs": [],
   "source": [
    "import numpy as np\n",
    "import pandas as pd\n",
    "import scipy.stats as ss\n",
    "import seaborn as sns\n",
    "from statsmodels.tsa.stattools import adfuller\n",
    "from statsmodels.graphics.tsaplots import plot_acf\n",
    "import statsmodels.formula.api as smf\n",
    "import statsmodels.tsa.api as smt\n",
    "import statsmodels.api as sm\n",
    "import scipy.stats as scs\n",
    "from arch import arch_model\n",
    "\n",
    "import yfinance as yf\n",
    "\n",
    "from arch.compat.numba import jit\n",
    "\n",
    "from datetime import datetime\n",
    "import warnings\n",
    "warnings.filterwarnings('ignore')\n",
    "\n",
    "import matplotlib.pyplot as plt\n",
    "plt.style.use(\"bmh\")\n",
    "plt.rcParams['font.family'] = 'DejaVu Sans'\n",
    "\n",
    "from enum import Enum\n",
    "import math"
   ],
   "metadata": {
    "collapsed": false,
    "pycharm": {
     "name": "#%%\n",
     "is_executing": true
    }
   }
  },
  {
   "cell_type": "code",
   "execution_count": null,
   "outputs": [],
   "source": [
    "class BetaType(Enum):\n",
    "    NO = 1\n",
    "    RAW = 2\n",
    "    RETURNS = 3\n",
    "    FILTERED = 4"
   ],
   "metadata": {
    "collapsed": false,
    "pycharm": {
     "name": "#%%\n",
     "is_executing": true
    }
   }
  },
  {
   "cell_type": "code",
   "execution_count": null,
   "outputs": [],
   "source": [
    "DATE_FROM = '2015-01-01'\n",
    "DATE_TO = '2017-12-31'\n",
    "tickers = ['ARE', 'CTL', 'ALD', 'AAP', 'MMM',\n",
    "           'ABMD', 'TSLA', 'APD', 'ATO', 'AMZN']\n",
    "\n",
    "INITIAL_CASH = 500000\n",
    "FEE = 0.001\n",
    "MAX_POSITION_PER_EQUITY = max(1. / len(tickers), 0.2)\n",
    "MAX_POSITION_PER_EQUITY_PER_TRADE = max(1. / len(tickers), 0.05)\n",
    "MAX_DRAWDOWN_PER_DAY = 0.005\n",
    "MAX_DRAWDOWN_PER_WEEK = 0.02"
   ],
   "metadata": {
    "collapsed": false,
    "pycharm": {
     "name": "#%%\n",
     "is_executing": true
    }
   }
  },
  {
   "cell_type": "code",
   "execution_count": null,
   "outputs": [],
   "source": [
    "BETA_TYPE = BetaType.FILTERED\n",
    "BETA_LAG = 252\n",
    "GARCH_LAG = 200\n",
    "CORRELATION_MATRIX_LAG = 200\n",
    "GARCH_REFIT_DELAY_DAYS = 30"
   ],
   "metadata": {
    "collapsed": false,
    "pycharm": {
     "name": "#%%\n",
     "is_executing": true
    }
   }
  },
  {
   "cell_type": "code",
   "execution_count": null,
   "outputs": [],
   "source": [
    "MEAN_MODEL = \"Constant\"\n",
    "VOL_MODEL = \"Garch\"\n",
    "DISTRIBUTION_ = \"Normal\""
   ],
   "metadata": {
    "collapsed": false,
    "pycharm": {
     "name": "#%%\n",
     "is_executing": true
    }
   }
  },
  {
   "cell_type": "code",
   "execution_count": null,
   "outputs": [],
   "source": [
    "p_ = 2\n",
    "o_ = 0\n",
    "q_ = 2"
   ],
   "metadata": {
    "collapsed": false,
    "pycharm": {
     "name": "#%%\n",
     "is_executing": true
    }
   }
  },
  {
   "cell_type": "code",
   "execution_count": null,
   "outputs": [],
   "source": [
    "\n",
    "def _find_best_model_params(TS: pd.Series):\n",
    "    best_aic = np.inf \n",
    "    best_order = None\n",
    "    best_mdl = None\n",
    "\n",
    "    pq_rng = range(1, 5) # [1,2,3,4]\n",
    "    d_rng = range(2) # [0,1]\n",
    "    for i in pq_rng:\n",
    "        for d in d_rng:\n",
    "            for j in pq_rng:\n",
    "                try:\n",
    "                    tmp_mdl = smt.ARIMA(TS, order=(i,d,j)).fit(method='mle', trend='nc')\n",
    "                    tmp_aic = tmp_mdl.aic\n",
    "                    if tmp_aic < best_aic:\n",
    "                        best_aic = tmp_aic\n",
    "                        best_order = (i, d, j)\n",
    "                        best_mdl = tmp_mdl\n",
    "                except: continue\n",
    "    print('aic: {:6.5f} | order: {}'.format(best_aic, best_order))\n",
    "    return best_aic, best_order"
   ],
   "metadata": {
    "collapsed": false,
    "pycharm": {
     "name": "#%%\n",
     "is_executing": true
    }
   }
  },
  {
   "cell_type": "code",
   "execution_count": null,
   "outputs": [],
   "source": [
    "def tsplot(y, lags=None, figsize=(10, 8), style='bmh'):\n",
    "    if not isinstance(y, pd.Series):\n",
    "        y = pd.Series(y)\n",
    "    with plt.style.context(style):    \n",
    "        fig = plt.figure(figsize=figsize)\n",
    "        layout = (3, 2)\n",
    "        ts_ax = plt.subplot2grid(layout, (0, 0), colspan=2)\n",
    "        acf_ax = plt.subplot2grid(layout, (1, 0))\n",
    "        pacf_ax = plt.subplot2grid(layout, (1, 1))\n",
    "        qq_ax = plt.subplot2grid(layout, (2, 0))\n",
    "        pp_ax = plt.subplot2grid(layout, (2, 1))\n",
    "        \n",
    "        y.plot(ax=ts_ax)\n",
    "        ts_ax.set_title('Time Series Analysis Plots')\n",
    "        smt.graphics.plot_acf(y, lags=lags, ax=acf_ax, alpha=0.5)\n",
    "        smt.graphics.plot_pacf(y, lags=lags, ax=pacf_ax, alpha=0.5)\n",
    "        sm.qqplot(y, line='s', ax=qq_ax)\n",
    "        qq_ax.set_title('QQ Plot')        \n",
    "        scs.probplot(y, sparams=(y.mean(), y.std()), plot=pp_ax)\n",
    "\n",
    "        plt.tight_layout()\n",
    "    return "
   ],
   "metadata": {
    "collapsed": false,
    "pycharm": {
     "name": "#%%\n",
     "is_executing": true
    }
   }
  },
  {
   "cell_type": "code",
   "execution_count": null,
   "outputs": [],
   "source": [
    "def raw_adj_close_prices(ticker: str, date_from: str, date_to: str):\n",
    "    prices = yf.download(ticker, date_from, date_to)\n",
    "    prices.index = prices.index.to_period(freq='d')\n",
    "    return prices['Adj Close']"
   ],
   "metadata": {
    "collapsed": false,
    "pycharm": {
     "name": "#%%\n",
     "is_executing": true
    }
   }
  },
  {
   "cell_type": "code",
   "execution_count": null,
   "outputs": [],
   "source": [
    "def raw_adj_close_log_returns(prices: pd.Series):\n",
    "    return np.log(prices).diff().fillna(0)"
   ],
   "metadata": {
    "collapsed": false,
    "pycharm": {
     "name": "#%%\n",
     "is_executing": true
    }
   }
  },
  {
   "cell_type": "code",
   "execution_count": null,
   "outputs": [],
   "source": [
    "def beta(market: pd.Series, single_stock: pd.Series, lag: int = 252):\n",
    "    return market.cov(single_stock, lag) / market.std(ddof=lag)"
   ],
   "metadata": {
    "collapsed": false,
    "pycharm": {
     "name": "#%%\n",
     "is_executing": true
    }
   }
  },
  {
   "cell_type": "code",
   "execution_count": null,
   "outputs": [],
   "source": [
    "@jit\n",
    "def arch_filtered_series(returns: pd.Series,\n",
    "                         dist: str = 'Normal',\n",
    "                         mean: str = 'HARX',\n",
    "                         vol: str = 'Garch',\n",
    "                         lag: int = 200,\n",
    "                         p: int = 1,\n",
    "                         o: int = 0,\n",
    "                         q: int = 1,\n",
    "                         forecast_horizon: int = 30):\n",
    "    scaling_const = 10.0 / returns.std()\n",
    "\n",
    "    model = arch_model(scaling_const * returns,\n",
    "                       mean=mean,\n",
    "                       lags=lag,\n",
    "                       vol=vol, \n",
    "                       p=p, o=o, q=q,\n",
    "                       dist=dist)\n",
    "\n",
    "    res = model.fit(update_freq=0, disp='off')\n",
    "    stand_residuals = res.resid / res.conditional_volatility\n",
    "    forecast = res.forecast(horizon=forecast_horizon)\n",
    "    means = pd.Series(forecast.mean.tail(1).to_numpy()[0]) / scaling_const\n",
    "    varis = pd.Series(forecast.variance.tail(1).to_numpy()[0]) / (scaling_const ** 2)\n",
    "    return stand_residuals, means, varis"
   ],
   "metadata": {
    "collapsed": false,
    "pycharm": {
     "name": "#%%\n",
     "is_executing": true
    }
   }
  },
  {
   "cell_type": "code",
   "execution_count": null,
   "outputs": [],
   "source": [
    "@jit\n",
    "def get_filtered_data(nmkt_rets_df):\n",
    "    net_market_returns_f = {}\n",
    "    means = {}\n",
    "    varis = {}\n",
    "    for ticker, net_rets in nmkt_rets_df.iteritems():\n",
    "        fltr_res, fcst_means, fcst_vars = arch_filtered_series(net_rets, lag=GARCH_LAG, forecast_horizon=GARCH_REFIT_DELAY_DAYS,\n",
    "                                                              mean=MEAN_MODEL, vol=VOL_MODEL, dist=DISTRIBUTION_,\n",
    "                                                              p=p_, o=o_, q=q_)\n",
    "        net_market_returns_f[ticker] = fltr_res[GARCH_LAG:]\n",
    "        means[ticker] = fcst_means\n",
    "        varis[ticker] = fcst_vars\n",
    "\n",
    "    nmkt_retsf_df = pd.DataFrame(net_market_returns_f, columns=tickers)\n",
    "    means_df = pd.DataFrame(means, columns=tickers)\n",
    "    vars_df = pd.DataFrame(varis, columns=tickers)\n",
    "    return (nmkt_retsf_df, means_df, vars_df)"
   ],
   "metadata": {
    "collapsed": false,
    "pycharm": {
     "name": "#%%\n",
     "is_executing": true
    }
   }
  },
  {
   "cell_type": "code",
   "execution_count": null,
   "outputs": [],
   "source": [
    "def remove_row_and_column(matrix: np.array, index: int):\n",
    "    tmp = np.delete(matrix, (index), axis=0)\n",
    "    return np.delete(tmp, (index), axis=1)"
   ],
   "metadata": {
    "collapsed": false,
    "pycharm": {
     "name": "#%%\n",
     "is_executing": true
    }
   }
  },
  {
   "cell_type": "code",
   "execution_count": null,
   "outputs": [],
   "source": [
    "def calc_alphas(real_returns: pd.DataFrame, corr_matrix: pd.DataFrame, means: pd.DataFrame, varis: pd.DataFrame):\n",
    "    alphas = {}\n",
    "    for i in range(0, len(tickers)):\n",
    "        ticker = tickers[i]\n",
    "        r_j_j = remove_row_and_column(corr_matrix.to_numpy(), i)\n",
    "        inv_r_j_j = np.linalg.inv(r_j_j)\n",
    "        mu_j = np.delete(means.to_numpy(), i)\n",
    "        sigma_j = np.delete(varis.to_numpy(), i)\n",
    "        rets = np.delete(real_returns.to_numpy(), i)\n",
    "        v = (rets - mu_j) / sigma_j\n",
    "        corr_v = np.delete(corr_matrix[ticker].to_numpy(), i)\n",
    "        mu = means[ticker] + varis[ticker] * corr_v.dot(inv_r_j_j).dot(v)\n",
    "        alphas[ticker] = alpha(mu, real_returns[ticker])\n",
    "    return pd.DataFrame(alphas, columns=tickers, index=[0])"
   ],
   "metadata": {
    "collapsed": false,
    "pycharm": {
     "name": "#%%\n",
     "is_executing": true
    }
   }
  },
  {
   "cell_type": "code",
   "execution_count": null,
   "outputs": [],
   "source": [
    "def alpha(mu, real_return):\n",
    "    return 2 * mu - real_return\n",
    "\n"
   ],
   "metadata": {
    "collapsed": false,
    "pycharm": {
     "name": "#%%\n",
     "is_executing": true
    }
   }
  },
  {
   "cell_type": "code",
   "execution_count": null,
   "outputs": [],
   "source": [
    "spy_p = raw_adj_close_prices('SPY', DATE_FROM, DATE_TO)\n",
    "\n",
    "raw_prices = {}\n",
    "for ticker in tickers:\n",
    "    raw_prices[ticker] = raw_adj_close_prices(ticker, DATE_FROM, DATE_TO)\n",
    "rp_df = pd.DataFrame(raw_prices, columns=tickers)"
   ],
   "metadata": {
    "collapsed": false,
    "pycharm": {
     "name": "#%%\n",
     "is_executing": true
    }
   }
  },
  {
   "cell_type": "code",
   "execution_count": null,
   "outputs": [],
   "source": [
    "rp_df.tail(1)"
   ],
   "metadata": {
    "collapsed": false,
    "pycharm": {
     "name": "#%%\n",
     "is_executing": true
    }
   }
  },
  {
   "cell_type": "code",
   "execution_count": null,
   "outputs": [],
   "source": [
    "tsplot(spy_p)"
   ],
   "metadata": {
    "collapsed": false,
    "pycharm": {
     "name": "#%%\n",
     "is_executing": true
    }
   }
  },
  {
   "cell_type": "code",
   "execution_count": null,
   "outputs": [],
   "source": [
    "plt.figure(figsize=(16,7))\n",
    "(spy_p / spy_p.mean()).plot()\n",
    "for _, data in rp_df.iteritems():\n",
    "    (data / data.mean()).plot()\n",
    "plt.title(\"normalized prices\")\n",
    "plt.legend(tickers)\n",
    "plt.show()"
   ],
   "metadata": {
    "collapsed": false,
    "pycharm": {
     "name": "#%%\n",
     "is_executing": true
    }
   }
  },
  {
   "cell_type": "code",
   "execution_count": null,
   "outputs": [],
   "source": [],
   "metadata": {
    "collapsed": false,
    "pycharm": {
     "name": "#%%\n",
     "is_executing": true
    }
   }
  },
  {
   "cell_type": "code",
   "execution_count": null,
   "outputs": [],
   "source": [],
   "metadata": {
    "collapsed": false,
    "pycharm": {
     "name": "#%%\n",
     "is_executing": true
    }
   }
  },
  {
   "cell_type": "code",
   "execution_count": null,
   "outputs": [],
   "source": [
    "spy = raw_adj_close_log_returns(spy_p)\n",
    "plt.figure(figsize=(16,7))\n",
    "spy.plot()\n",
    "plt.title(\"spy log returns\")\n",
    "plt.show()"
   ],
   "metadata": {
    "collapsed": false,
    "pycharm": {
     "name": "#%%\n",
     "is_executing": true
    }
   }
  },
  {
   "cell_type": "code",
   "execution_count": null,
   "outputs": [],
   "source": [
    "tsplot(spy)"
   ],
   "metadata": {
    "collapsed": false,
    "pycharm": {
     "name": "#%%\n",
     "is_executing": true
    }
   }
  },
  {
   "cell_type": "code",
   "execution_count": null,
   "outputs": [],
   "source": [
    "spyf, spy_means, spy_vars = arch_filtered_series(spy, lag=GARCH_LAG, forecast_horizon=GARCH_REFIT_DELAY_DAYS,\n",
    "                                                mean=MEAN_MODEL, vol=VOL_MODEL, dist=DISTRIBUTION_,\n",
    "                                                p=p_, o=o_, q=q_)\n",
    "plt.figure(figsize=(16,7))\n",
    "spyf.plot()\n",
    "plt.title(\"spy filtered log returns\")\n",
    "plt.show()"
   ],
   "metadata": {
    "collapsed": false,
    "pycharm": {
     "name": "#%%\n",
     "is_executing": true
    }
   }
  },
  {
   "cell_type": "code",
   "execution_count": null,
   "outputs": [],
   "source": [
    "tsplot(spyf)"
   ],
   "metadata": {
    "collapsed": false,
    "pycharm": {
     "name": "#%%\n",
     "is_executing": true
    }
   }
  },
  {
   "cell_type": "code",
   "execution_count": null,
   "outputs": [],
   "source": [
    "spy_means.plot()\n",
    "plt.show()"
   ],
   "metadata": {
    "collapsed": false,
    "pycharm": {
     "name": "#%%\n",
     "is_executing": true
    }
   }
  },
  {
   "cell_type": "code",
   "execution_count": null,
   "outputs": [],
   "source": [
    "res = spy_p.values\n",
    "result = adfuller(res)\n",
    "print('ADF Statistic: %f' % result[0])\n",
    "print('p-value: %f' % result[1])\n",
    "print('Critical Values:')\n",
    "for key, value in result[4].items():\n",
    "    print('\\t%s: %.3f' % (key, value))\n",
    "    \n",
    "res = spy.values\n",
    "result = adfuller(res)\n",
    "print('ADF Statistic: %f' % result[0])\n",
    "print('p-value: %f' % result[1])\n",
    "print('Critical Values:')\n",
    "for key, value in result[4].items():\n",
    "    print('\\t%s: %.3f' % (key, value))\n",
    "    \n",
    "res = spyf.dropna().values\n",
    "result = adfuller(res)\n",
    "print('ADF Statistic: %f' % result[0])\n",
    "print('p-value: %f' % result[1])\n",
    "print('Critical Values:')\n",
    "for key, value in result[4].items():\n",
    "    print('\\t%s: %.3f' % (key, value))"
   ],
   "metadata": {
    "collapsed": false,
    "pycharm": {
     "name": "#%%\n",
     "is_executing": true
    }
   }
  },
  {
   "cell_type": "code",
   "execution_count": null,
   "outputs": [],
   "source": [],
   "metadata": {
    "collapsed": false,
    "pycharm": {
     "name": "#%%\n",
     "is_executing": true
    }
   }
  },
  {
   "cell_type": "code",
   "execution_count": null,
   "outputs": [],
   "source": [],
   "metadata": {
    "collapsed": false,
    "pycharm": {
     "name": "#%%\n",
     "is_executing": true
    }
   }
  },
  {
   "cell_type": "code",
   "execution_count": null,
   "outputs": [],
   "source": [
    "mkt_returns = {}\n",
    "for ticker, data in rp_df.iteritems():\n",
    "    mkt_returns[ticker] = raw_adj_close_log_returns(data)"
   ],
   "metadata": {
    "collapsed": false,
    "pycharm": {
     "name": "#%%\n",
     "is_executing": true
    }
   }
  },
  {
   "cell_type": "code",
   "execution_count": null,
   "outputs": [],
   "source": [
    "# %%time\n",
    "# aic, params = _find_best_model_params(spy)"
   ],
   "metadata": {
    "collapsed": false,
    "pycharm": {
     "name": "#%%\n",
     "is_executing": true
    }
   }
  },
  {
   "cell_type": "code",
   "execution_count": null,
   "outputs": [],
   "source": [
    "# for ticker in tickers:\n",
    "#    aic, params = _find_best_model_params(mkt_returns[ticker])"
   ],
   "metadata": {
    "collapsed": false,
    "pycharm": {
     "name": "#%%\n",
     "is_executing": true
    }
   }
  },
  {
   "cell_type": "code",
   "execution_count": null,
   "outputs": [],
   "source": [],
   "metadata": {
    "collapsed": false,
    "pycharm": {
     "name": "#%%\n",
     "is_executing": true
    }
   }
  },
  {
   "cell_type": "code",
   "execution_count": null,
   "outputs": [],
   "source": [
    "%%time\n",
    "betas = {}\n",
    "if BETA_TYPE == BetaType.NO:\n",
    "    for ticker in tickers:\n",
    "        betas[ticker] = 0\n",
    "elif BETA_TYPE == BetaType.RAW:\n",
    "    for ticker, data in raw_prices.items():\n",
    "        betas[ticker] = beta(spy_p, data, lag=BETA_LAG)\n",
    "elif BETA_TYPE == BetaType.RETURNS:\n",
    "    for ticker, data in mkt_returns.items():\n",
    "        betas[ticker] = beta(spy, data, lag=BETA_LAG)\n",
    "elif BETA_TYPE == BetaType.FILTERED:\n",
    "    filtered_returns = {}\n",
    "    for ticker, net_rets in mkt_returns.items():\n",
    "        fltr_res, _, _ = arch_filtered_series(net_rets, lag=GARCH_LAG, forecast_horizon=GARCH_REFIT_DELAY_DAYS,\n",
    "                                              mean=MEAN_MODEL, vol=VOL_MODEL, dist=DISTRIBUTION_, \n",
    "                                              p=p_, o=o_, q=q_)\n",
    "        filtered_returns[ticker] = fltr_res[GARCH_LAG:]\n",
    "    for ticker, data in filtered_returns.items():\n",
    "        betas[ticker] = beta(spyf, data, lag=BETA_LAG)\n",
    "betas"
   ],
   "metadata": {
    "collapsed": false,
    "pycharm": {
     "name": "#%%\n",
     "is_executing": true
    }
   }
  },
  {
   "cell_type": "code",
   "execution_count": null,
   "outputs": [],
   "source": [
    "net_market_returns = {}\n",
    "for ticker, data in mkt_returns.items():\n",
    "    net_market_returns[ticker] = data - spy * betas[ticker]\n",
    "    \n",
    "nmkt_rets_df = pd.DataFrame(net_market_returns, columns=tickers)\n",
    "nmkt_rets_df\n",
    "\n"
   ],
   "metadata": {
    "collapsed": false,
    "pycharm": {
     "name": "#%%\n",
     "is_executing": true
    }
   }
  },
  {
   "cell_type": "code",
   "execution_count": null,
   "outputs": [],
   "source": [
    "%%time\n",
    "today = 2 * GARCH_LAG + 1\n",
    "nmkt_retsf_df, means_df, vars_df = get_filtered_data(nmkt_rets_df[(today - 2 * GARCH_LAG - 1): today])#fixme check"
   ],
   "metadata": {
    "collapsed": false,
    "pycharm": {
     "name": "#%%\n",
     "is_executing": true
    }
   }
  },
  {
   "cell_type": "code",
   "execution_count": null,
   "outputs": [],
   "source": [
    "corr_matrix = nmkt_retsf_df.corr(min_periods=CORRELATION_MATRIX_LAG)"
   ],
   "metadata": {
    "collapsed": false,
    "pycharm": {
     "name": "#%%\n",
     "is_executing": true
    }
   }
  },
  {
   "cell_type": "code",
   "execution_count": null,
   "outputs": [],
   "source": [
    "sns.heatmap(corr_matrix, annot=True)\n",
    "plt.show()"
   ],
   "metadata": {
    "collapsed": false,
    "pycharm": {
     "name": "#%%\n",
     "is_executing": true
    }
   }
  },
  {
   "cell_type": "code",
   "execution_count": null,
   "outputs": [],
   "source": [],
   "metadata": {
    "collapsed": false,
    "pycharm": {
     "name": "#%%\n",
     "is_executing": true
    }
   }
  },
  {
   "cell_type": "code",
   "execution_count": null,
   "outputs": [],
   "source": [
    "def trade(alphas, positions, prices, i):\n",
    "    new_positions = pd.DataFrame({}, columns=tickers, index=[0])\n",
    "    cash = positions.iloc[0]['CASH']\n",
    "    if cash < 0:\n",
    "        print(\"Negative cash! Bankrupt! \", cash, \" @ \", i)\n",
    "        print(alphas)\n",
    "        print('=======================================================')\n",
    "        print(positions)\n",
    "        print('=======================================================')\n",
    "        print(prices)\n",
    "    pv_ = cash\n",
    "    for ticker in tickers:\n",
    "        pv_ = pv_ + positions.iloc[0][ticker] * prices[ticker]\n",
    "    expected_positions = alphas.iloc[0] * pv_\n",
    "    max_pos = pv_ * MAX_POSITION_PER_EQUITY\n",
    "    max_trade = pv_ * MAX_POSITION_PER_EQUITY_PER_TRADE\n",
    "    for ticker in tickers:\n",
    "        expected_positions[ticker] = min(expected_positions[ticker], max_pos)\n",
    "    for ticker in tickers:\n",
    "        amount_to_buy = expected_positions[ticker] - positions.iloc[0][ticker] * prices[ticker]\n",
    "        if abs(amount_to_buy) > max_trade:\n",
    "            amount_to_buy = math.copysign(max_trade, amount_to_buy)\n",
    "        cash = cash - amount_to_buy - abs(amount_to_buy) * FEE\n",
    "        new_positions[ticker] = positions.iloc[0][ticker] + amount_to_buy / prices[ticker]\n",
    "    new_positions['CASH'] = cash    \n",
    "    return pv_, new_positions\n",
    "    "
   ],
   "metadata": {
    "collapsed": false,
    "pycharm": {
     "name": "#%%\n",
     "is_executing": true
    }
   }
  },
  {
   "cell_type": "code",
   "execution_count": null,
   "outputs": [],
   "source": [],
   "metadata": {
    "collapsed": false,
    "pycharm": {
     "name": "#%%\n",
     "is_executing": true
    }
   }
  },
  {
   "cell_type": "code",
   "execution_count": null,
   "outputs": [],
   "source": [],
   "metadata": {
    "collapsed": false,
    "pycharm": {
     "name": "#%%\n",
     "is_executing": true
    }
   }
  },
  {
   "cell_type": "code",
   "source": [],
   "metadata": {
    "collapsed": false,
    "pycharm": {
     "name": "#%%\n",
     "is_executing": true
    }
   },
   "execution_count": null,
   "outputs": []
  },
  {
   "cell_type": "code",
   "execution_count": null,
   "outputs": [],
   "source": [
    "%%time\n",
    "init_positions = {}\n",
    "for ticker in tickers:\n",
    "    init_positions[ticker] = 0\n",
    "init_positions['CASH'] = INITIAL_CASH\n",
    "positions = pd.DataFrame(init_positions, index=[0])\n",
    "\n",
    "pv_series = [INITIAL_CASH]\n",
    "last_refit_date = GARCH_LAG * 2 + 1\n",
    "while last_refit_date < len(rp_df):\n",
    "    nmkt_retsf_df, means_df, vars_df = get_filtered_data(nmkt_rets_df[: last_refit_date])#fixme check\n",
    "    corr_matrix = nmkt_retsf_df.corr(min_periods=CORRELATION_MATRIX_LAG)\n",
    "    for offset in range(0, GARCH_REFIT_DELAY_DAYS):\n",
    "        today = min(last_refit_date + offset + 1, len(nmkt_rets_df) - 1)\n",
    "        alphas = calc_alphas(nmkt_rets_df.iloc[today], corr_matrix, means_df.iloc[offset], vars_df.iloc[offset])\n",
    "        alphas_array = alphas.to_numpy()\n",
    "        # alpha_norma = max(max(alphas_array[0]), -min(alphas_array[0]))\n",
    "        alpha_norma = alphas_array[0].sum()\n",
    "        normalized_alphas = alphas / alpha_norma # / 100 * MAX_POSITION_PER_EQUITY\n",
    "        pv, new_positions = trade(normalized_alphas, positions.tail(1), rp_df.iloc[today], today)\n",
    "        pv_series.append(pv)\n",
    "        positions = positions.append(new_positions, ignore_index=True)\n",
    "    last_refit_date = last_refit_date + GARCH_REFIT_DELAY_DAYS"
   ],
   "metadata": {
    "collapsed": false,
    "pycharm": {
     "name": "#%%\n",
     "is_executing": true
    }
   }
  },
  {
   "cell_type": "code",
   "execution_count": null,
   "outputs": [],
   "source": [],
   "metadata": {
    "collapsed": false,
    "pycharm": {
     "name": "#%%\n",
     "is_executing": true
    }
   }
  },
  {
   "cell_type": "code",
   "execution_count": null,
   "outputs": [],
   "source": [
    "positions"
   ],
   "metadata": {
    "collapsed": false,
    "pycharm": {
     "name": "#%%\n",
     "is_executing": true
    }
   }
  },
  {
   "cell_type": "code",
   "execution_count": null,
   "outputs": [],
   "source": [
    "# positions.index = spy_p.index[-len(positions):]\n",
    "# plt.figure(figsize=(20, 8))\n",
    "# positions['AES'].plot()"
   ],
   "metadata": {
    "collapsed": false,
    "pycharm": {
     "name": "#%%\n",
     "is_executing": true
    }
   }
  },
  {
   "cell_type": "code",
   "execution_count": null,
   "outputs": [],
   "source": [
    "plt.figure(figsize=(20, 8))\n",
    "for ticker in tickers:\n",
    "    positions[ticker].plot()"
   ],
   "metadata": {
    "collapsed": false,
    "pycharm": {
     "name": "#%%\n",
     "is_executing": true
    }
   }
  },
  {
   "cell_type": "code",
   "execution_count": null,
   "outputs": [],
   "source": [
    "positions['CASH'].plot()"
   ],
   "metadata": {
    "collapsed": false,
    "pycharm": {
     "name": "#%%\n",
     "is_executing": true
    }
   }
  },
  {
   "cell_type": "code",
   "execution_count": null,
   "outputs": [],
   "source": [
    "pv_s = pd.Series(pv_series)\n",
    "pv_s.index = spy_p.index[-len(positions):]\n",
    "plt.figure(figsize=(20, 8))\n",
    "(pv_s / pv_s.mean()).plot()\n",
    "(spy_p[-len(positions):] / spy_p[-len(positions):].mean()).plot()\n",
    "# (rp_df['T'] / rp_df['T'].mean()).plot()"
   ],
   "metadata": {
    "collapsed": false,
    "pycharm": {
     "name": "#%%\n",
     "is_executing": true
    }
   }
  },
  {
   "cell_type": "code",
   "execution_count": null,
   "outputs": [],
   "source": [
    "pv_s.plot()"
   ],
   "metadata": {
    "collapsed": false,
    "pycharm": {
     "name": "#%%\n",
     "is_executing": true
    }
   }
  },
  {
   "cell_type": "code",
   "execution_count": null,
   "outputs": [],
   "source": [
    "pv_s[-1:]"
   ],
   "metadata": {
    "collapsed": false,
    "pycharm": {
     "name": "#%%\n",
     "is_executing": true
    }
   }
  },
  {
   "cell_type": "code",
   "execution_count": null,
   "outputs": [],
   "source": [
    "pnl = pv_s.diff()\n",
    "pnl.plot()"
   ],
   "metadata": {
    "collapsed": false,
    "pycharm": {
     "name": "#%%\n",
     "is_executing": true
    }
   }
  },
  {
   "cell_type": "code",
   "execution_count": null,
   "outputs": [],
   "source": [
    "pnl.min() / INITIAL_CASH"
   ],
   "metadata": {
    "collapsed": false,
    "pycharm": {
     "name": "#%%\n",
     "is_executing": true
    }
   }
  },
  {
   "cell_type": "code",
   "execution_count": null,
   "outputs": [],
   "source": [
    "beta(spy[-len(pnl):], pnl)"
   ],
   "metadata": {
    "collapsed": false,
    "pycharm": {
     "name": "#%%\n",
     "is_executing": true
    }
   }
  },
  {
   "cell_type": "code",
   "execution_count": null,
   "outputs": [],
   "source": [
    "beta(spy_p[-len(pv_s):], pv_s)"
   ],
   "metadata": {
    "collapsed": false,
    "pycharm": {
     "name": "#%%\n",
     "is_executing": true
    }
   }
  },
  {
   "cell_type": "code",
   "execution_count": null,
   "outputs": [],
   "source": [
    "pnl.mean() / pnl.std()"
   ],
   "metadata": {
    "collapsed": false,
    "pycharm": {
     "name": "#%%\n",
     "is_executing": true
    }
   }
  },
  {
   "cell_type": "code",
   "execution_count": null,
   "outputs": [],
   "source": [],
   "metadata": {
    "collapsed": false,
    "pycharm": {
     "name": "#%%\n",
     "is_executing": true
    }
   }
  },
  {
   "cell_type": "code",
   "execution_count": null,
   "outputs": [],
   "source": [],
   "metadata": {
    "collapsed": false,
    "pycharm": {
     "name": "#%%\n",
     "is_executing": true
    }
   }
  },
  {
   "cell_type": "code",
   "execution_count": null,
   "outputs": [],
   "source": [],
   "metadata": {
    "collapsed": false,
    "pycharm": {
     "name": "#%%\n",
     "is_executing": true
    }
   }
  },
  {
   "cell_type": "code",
   "execution_count": null,
   "outputs": [],
   "source": [],
   "metadata": {
    "collapsed": false,
    "pycharm": {
     "name": "#%%\n",
     "is_executing": true
    }
   }
  }
 ],
 "metadata": {
  "kernelspec": {
   "name": "python3",
   "language": "python",
   "display_name": "Python 3"
  },
  "language_info": {
   "codemirror_mode": {
    "name": "ipython",
    "version": 3
   },
   "file_extension": ".py",
   "mimetype": "text/x-python",
   "name": "python",
   "nbconvert_exporter": "python",
   "pygments_lexer": "ipython3",
   "version": "3.8.5"
  }
 },
 "nbformat": 4,
 "nbformat_minor": 1
}